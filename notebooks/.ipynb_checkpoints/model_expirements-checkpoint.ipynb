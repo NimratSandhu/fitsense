{
 "cells": [
  {
   "cell_type": "code",
   "execution_count": 1,
   "id": "eed2cebc",
   "metadata": {},
   "outputs": [],
   "source": [
    "import pandas as pd\n",
    "df = pd.read_csv(\"/Users/nimratsandhu/Documents/projects/fitsense/data/raw/heart-disease-dataset.zip\")"
   ]
  },
  {
   "cell_type": "code",
   "execution_count": 2,
   "id": "79531867",
   "metadata": {},
   "outputs": [],
   "source": [
    "from sklearn.model_selection import train_test_split\n",
    "\n",
    "X = df.drop('target', axis=1)\n",
    "y = df['target']\n",
    "\n",
    "X_train, X_test, y_train, y_test = train_test_split(X, y, test_size=0.2, random_state=42)"
   ]
  },
  {
   "cell_type": "code",
   "execution_count": 3,
   "id": "caf15a1b",
   "metadata": {},
   "outputs": [
    {
     "name": "stdout",
     "output_type": "stream",
     "text": [
      "Logistic Regression - Accuracy: 0.80, F1 Score: 0.81\n",
      "Random Forest - Accuracy: 0.99, F1 Score: 0.99\n",
      "SVM - Accuracy: 0.68, F1 Score: 0.71\n"
     ]
    }
   ],
   "source": [
    "from sklearn.linear_model import LogisticRegression\n",
    "from sklearn.ensemble import RandomForestClassifier\n",
    "from sklearn.svm import SVC\n",
    "#from xgboost import XGBClassifier\n",
    "from sklearn.metrics import accuracy_score, f1_score\n",
    "\n",
    "models = {\n",
    "    'Logistic Regression': LogisticRegression(max_iter=1000),\n",
    "    'Random Forest': RandomForestClassifier(),\n",
    "    'SVM': SVC(),\n",
    "#    'XGBoost': XGBClassifier()\n",
    "}\n",
    "\n",
    "for name, model in models.items():\n",
    "    model.fit(X_train, y_train)\n",
    "    y_pred = model.predict(X_test)\n",
    "    print(f'{name} - Accuracy: {accuracy_score(y_test, y_pred):.2f}, F1 Score: {f1_score(y_test, y_pred):.2f}')\n"
   ]
  },
  {
   "cell_type": "code",
   "execution_count": 4,
   "id": "1a0d3e3e",
   "metadata": {
    "scrolled": true
   },
   "outputs": [
    {
     "name": "stdout",
     "output_type": "stream",
     "text": [
      "     Feature  Importance\n",
      "11        ca    0.136497\n",
      "2         cp    0.134117\n",
      "12      thal    0.128102\n",
      "7    thalach    0.122806\n",
      "9    oldpeak    0.113990\n",
      "4       chol    0.079685\n",
      "0        age    0.075315\n",
      "3   trestbps    0.069529\n",
      "8      exang    0.044201\n",
      "10     slope    0.041662\n",
      "1        sex    0.026234\n",
      "6    restecg    0.018943\n",
      "5        fbs    0.008918\n"
     ]
    },
    {
     "data": {
      "text/html": [
       "<style>#sk-container-id-1 {color: black;}#sk-container-id-1 pre{padding: 0;}#sk-container-id-1 div.sk-toggleable {background-color: white;}#sk-container-id-1 label.sk-toggleable__label {cursor: pointer;display: block;width: 100%;margin-bottom: 0;padding: 0.3em;box-sizing: border-box;text-align: center;}#sk-container-id-1 label.sk-toggleable__label-arrow:before {content: \"▸\";float: left;margin-right: 0.25em;color: #696969;}#sk-container-id-1 label.sk-toggleable__label-arrow:hover:before {color: black;}#sk-container-id-1 div.sk-estimator:hover label.sk-toggleable__label-arrow:before {color: black;}#sk-container-id-1 div.sk-toggleable__content {max-height: 0;max-width: 0;overflow: hidden;text-align: left;background-color: #f0f8ff;}#sk-container-id-1 div.sk-toggleable__content pre {margin: 0.2em;color: black;border-radius: 0.25em;background-color: #f0f8ff;}#sk-container-id-1 input.sk-toggleable__control:checked~div.sk-toggleable__content {max-height: 200px;max-width: 100%;overflow: auto;}#sk-container-id-1 input.sk-toggleable__control:checked~label.sk-toggleable__label-arrow:before {content: \"▾\";}#sk-container-id-1 div.sk-estimator input.sk-toggleable__control:checked~label.sk-toggleable__label {background-color: #d4ebff;}#sk-container-id-1 div.sk-label input.sk-toggleable__control:checked~label.sk-toggleable__label {background-color: #d4ebff;}#sk-container-id-1 input.sk-hidden--visually {border: 0;clip: rect(1px 1px 1px 1px);clip: rect(1px, 1px, 1px, 1px);height: 1px;margin: -1px;overflow: hidden;padding: 0;position: absolute;width: 1px;}#sk-container-id-1 div.sk-estimator {font-family: monospace;background-color: #f0f8ff;border: 1px dotted black;border-radius: 0.25em;box-sizing: border-box;margin-bottom: 0.5em;}#sk-container-id-1 div.sk-estimator:hover {background-color: #d4ebff;}#sk-container-id-1 div.sk-parallel-item::after {content: \"\";width: 100%;border-bottom: 1px solid gray;flex-grow: 1;}#sk-container-id-1 div.sk-label:hover label.sk-toggleable__label {background-color: #d4ebff;}#sk-container-id-1 div.sk-serial::before {content: \"\";position: absolute;border-left: 1px solid gray;box-sizing: border-box;top: 0;bottom: 0;left: 50%;z-index: 0;}#sk-container-id-1 div.sk-serial {display: flex;flex-direction: column;align-items: center;background-color: white;padding-right: 0.2em;padding-left: 0.2em;position: relative;}#sk-container-id-1 div.sk-item {position: relative;z-index: 1;}#sk-container-id-1 div.sk-parallel {display: flex;align-items: stretch;justify-content: center;background-color: white;position: relative;}#sk-container-id-1 div.sk-item::before, #sk-container-id-1 div.sk-parallel-item::before {content: \"\";position: absolute;border-left: 1px solid gray;box-sizing: border-box;top: 0;bottom: 0;left: 50%;z-index: -1;}#sk-container-id-1 div.sk-parallel-item {display: flex;flex-direction: column;z-index: 1;position: relative;background-color: white;}#sk-container-id-1 div.sk-parallel-item:first-child::after {align-self: flex-end;width: 50%;}#sk-container-id-1 div.sk-parallel-item:last-child::after {align-self: flex-start;width: 50%;}#sk-container-id-1 div.sk-parallel-item:only-child::after {width: 0;}#sk-container-id-1 div.sk-dashed-wrapped {border: 1px dashed gray;margin: 0 0.4em 0.5em 0.4em;box-sizing: border-box;padding-bottom: 0.4em;background-color: white;}#sk-container-id-1 div.sk-label label {font-family: monospace;font-weight: bold;display: inline-block;line-height: 1.2em;}#sk-container-id-1 div.sk-label-container {text-align: center;}#sk-container-id-1 div.sk-container {/* jupyter's `normalize.less` sets `[hidden] { display: none; }` but bootstrap.min.css set `[hidden] { display: none !important; }` so we also need the `!important` here to be able to override the default hidden behavior on the sphinx rendered scikit-learn.org. See: https://github.com/scikit-learn/scikit-learn/issues/21755 */display: inline-block !important;position: relative;}#sk-container-id-1 div.sk-text-repr-fallback {display: none;}</style><div id=\"sk-container-id-1\" class=\"sk-top-container\"><div class=\"sk-text-repr-fallback\"><pre>RandomForestClassifier()</pre><b>In a Jupyter environment, please rerun this cell to show the HTML representation or trust the notebook. <br />On GitHub, the HTML representation is unable to render, please try loading this page with nbviewer.org.</b></div><div class=\"sk-container\" hidden><div class=\"sk-item\"><div class=\"sk-estimator sk-toggleable\"><input class=\"sk-toggleable__control sk-hidden--visually\" id=\"sk-estimator-id-1\" type=\"checkbox\" checked><label for=\"sk-estimator-id-1\" class=\"sk-toggleable__label sk-toggleable__label-arrow\">RandomForestClassifier</label><div class=\"sk-toggleable__content\"><pre>RandomForestClassifier()</pre></div></div></div></div></div>"
      ],
      "text/plain": [
       "RandomForestClassifier()"
      ]
     },
     "execution_count": 4,
     "metadata": {},
     "output_type": "execute_result"
    }
   ],
   "source": [
    "randomForest = RandomForestClassifier()\n",
    "randomForest.fit(X_train, y_train)\n",
    "importances = randomForest.feature_importances_\n",
    "feature_names = X_train.columns\n",
    "feature_importance_df = pd.DataFrame({'Feature': feature_names, 'Importance': importances})\n",
    "feature_importance_df = feature_importance_df.sort_values(by='Importance', ascending=False)\n",
    "print(feature_importance_df)\n",
    "\n",
    "# Features to be dropped: sex, restecg, fbs\n",
    "df = df.drop(['sex', 'restecg', 'fbs'], axis=1)\n",
    "\n",
    "X = df.drop('target', axis=1)\n",
    "y = df['target']\n",
    "\n",
    "X_train, X_test, y_train, y_test = train_test_split(X, y, test_size=0.2, random_state=42)\n",
    "\n",
    "randomForest.fit(X_train, y_train)"
   ]
  },
  {
   "cell_type": "code",
   "execution_count": 5,
   "id": "bdeff7b4",
   "metadata": {},
   "outputs": [
    {
     "name": "stdout",
     "output_type": "stream",
     "text": [
      "Fitting 4 folds for each of 48 candidates, totalling 192 fits\n",
      "Best parameters found:  {'max_depth': 17, 'max_features': 'log2', 'min_samples_leaf': 1, 'min_samples_split': 3, 'n_estimators': 350}\n",
      "Best cross-validation score: 0.98\n",
      "Test set accuracy: 0.99\n",
      "Test set F1 score: 0.99\n"
     ]
    },
    {
     "name": "stderr",
     "output_type": "stream",
     "text": [
      "/Users/nimratsandhu/anaconda3/lib/python3.11/site-packages/sklearn/model_selection/_validation.py:425: FitFailedWarning: \n",
      "96 fits failed out of a total of 192.\n",
      "The score on these train-test partitions for these parameters will be set to nan.\n",
      "If these failures are not expected, you can try to debug them by setting error_score='raise'.\n",
      "\n",
      "Below are more details about the failures:\n",
      "--------------------------------------------------------------------------------\n",
      "88 fits failed with the following error:\n",
      "Traceback (most recent call last):\n",
      "  File \"/Users/nimratsandhu/anaconda3/lib/python3.11/site-packages/sklearn/model_selection/_validation.py\", line 732, in _fit_and_score\n",
      "    estimator.fit(X_train, y_train, **fit_params)\n",
      "  File \"/Users/nimratsandhu/anaconda3/lib/python3.11/site-packages/sklearn/base.py\", line 1144, in wrapper\n",
      "    estimator._validate_params()\n",
      "  File \"/Users/nimratsandhu/anaconda3/lib/python3.11/site-packages/sklearn/base.py\", line 637, in _validate_params\n",
      "    validate_parameter_constraints(\n",
      "  File \"/Users/nimratsandhu/anaconda3/lib/python3.11/site-packages/sklearn/utils/_param_validation.py\", line 95, in validate_parameter_constraints\n",
      "    raise InvalidParameterError(\n",
      "sklearn.utils._param_validation.InvalidParameterError: The 'max_features' parameter of RandomForestClassifier must be an int in the range [1, inf), a float in the range (0.0, 1.0], a str among {'sqrt', 'log2'} or None. Got 'auto' instead.\n",
      "\n",
      "--------------------------------------------------------------------------------\n",
      "8 fits failed with the following error:\n",
      "Traceback (most recent call last):\n",
      "  File \"/Users/nimratsandhu/anaconda3/lib/python3.11/site-packages/sklearn/model_selection/_validation.py\", line 732, in _fit_and_score\n",
      "    estimator.fit(X_train, y_train, **fit_params)\n",
      "  File \"/Users/nimratsandhu/anaconda3/lib/python3.11/site-packages/sklearn/base.py\", line 1144, in wrapper\n",
      "    estimator._validate_params()\n",
      "  File \"/Users/nimratsandhu/anaconda3/lib/python3.11/site-packages/sklearn/base.py\", line 637, in _validate_params\n",
      "    validate_parameter_constraints(\n",
      "  File \"/Users/nimratsandhu/anaconda3/lib/python3.11/site-packages/sklearn/utils/_param_validation.py\", line 95, in validate_parameter_constraints\n",
      "    raise InvalidParameterError(\n",
      "sklearn.utils._param_validation.InvalidParameterError: The 'max_features' parameter of RandomForestClassifier must be an int in the range [1, inf), a float in the range (0.0, 1.0], a str among {'log2', 'sqrt'} or None. Got 'auto' instead.\n",
      "\n",
      "  warnings.warn(some_fits_failed_message, FitFailedWarning)\n",
      "/Users/nimratsandhu/anaconda3/lib/python3.11/site-packages/sklearn/model_selection/_search.py:976: UserWarning: One or more of the test scores are non-finite: [       nan        nan        nan        nan        nan        nan\n",
      "        nan        nan 0.97317073 0.97317073 0.97439024 0.97560976\n",
      " 0.95731707 0.95609756 0.95731707 0.95731707        nan        nan\n",
      "        nan        nan        nan        nan        nan        nan\n",
      " 0.97560976 0.97439024 0.97560976 0.97439024 0.95853659 0.95731707\n",
      " 0.95853659 0.95609756        nan        nan        nan        nan\n",
      "        nan        nan        nan        nan 0.97560976 0.97560976\n",
      " 0.97439024 0.97439024 0.95853659 0.95487805 0.95731707 0.95853659]\n",
      "  warnings.warn(\n"
     ]
    }
   ],
   "source": [
    "from sklearn.model_selection import GridSearchCV\n",
    "\n",
    "param_grid = {\n",
    "    'n_estimators': [300, 350],\n",
    "    'max_depth': [17, 20, 23],\n",
    "    'min_samples_split': [2, 3],\n",
    "    'min_samples_leaf': [1, 2],\n",
    "    'max_features': ['auto', 'log2']\n",
    "}\n",
    "\n",
    "\n",
    "grid_search = GridSearchCV(estimator=randomForest, param_grid=param_grid, cv=4, n_jobs=-1, verbose=2)\n",
    "\n",
    "grid_search.fit(X_train, y_train)\n",
    "\n",
    "print(\"Best parameters found: \", grid_search.best_params_)\n",
    "print(\"Best cross-validation score: {:.2f}\".format(grid_search.best_score_))\n",
    "\n",
    "best_rf = grid_search.best_estimator_\n",
    "\n",
    "y_pred = best_rf.predict(X_test)\n",
    "\n",
    "print(\"Test set accuracy: {:.2f}\".format(accuracy_score(y_test, y_pred)))\n",
    "print(\"Test set F1 score: {:.2f}\".format(f1_score(y_test, y_pred)))"
   ]
  },
  {
   "cell_type": "code",
   "execution_count": 6,
   "id": "165462e2",
   "metadata": {},
   "outputs": [
    {
     "data": {
      "text/plain": [
       "<sklearn.metrics._plot.confusion_matrix.ConfusionMatrixDisplay at 0x160040e50>"
      ]
     },
     "execution_count": 6,
     "metadata": {},
     "output_type": "execute_result"
    },
    {
     "data": {
      "image/png": "[encoded data removed]",
      "text/plain": [
       "<Figure size 640x480 with 2 Axes>"
      ]
     },
     "metadata": {},
     "output_type": "display_data"
    },
    {
     "name": "stdout",
     "output_type": "stream",
     "text": [
      "[CV] END max_depth=17, max_features=auto, min_samples_leaf=1, min_samples_split=2, n_estimators=350; total time=   0.0s\n",
      "[CV] END max_depth=17, max_features=auto, min_samples_leaf=1, min_samples_split=3, n_estimators=300; total time=   0.0s\n",
      "[CV] END max_depth=17, max_features=log2, min_samples_leaf=1, min_samples_split=2, n_estimators=350; total time=   0.2s\n",
      "[CV] END max_depth=17, max_features=log2, min_samples_leaf=1, min_samples_split=3, n_estimators=350; total time=   0.3s\n",
      "[CV] END max_depth=17, max_features=log2, min_samples_leaf=2, min_samples_split=3, n_estimators=300; total time=   0.2s\n",
      "[CV] END max_depth=17, max_features=log2, min_samples_leaf=2, min_samples_split=3, n_estimators=300; total time=   0.2s\n",
      "[CV] END max_depth=20, max_features=auto, min_samples_leaf=2, min_samples_split=2, n_estimators=300; total time=   0.0s\n",
      "[CV] END max_depth=20, max_features=auto, min_samples_leaf=2, min_samples_split=2, n_estimators=300; total time=   0.0s\n",
      "[CV] END max_depth=20, max_features=auto, min_samples_leaf=2, min_samples_split=2, n_estimators=350; total time=   0.0s\n",
      "[CV] END max_depth=20, max_features=auto, min_samples_leaf=2, min_samples_split=2, n_estimators=350; total time=   0.0s\n",
      "[CV] END max_depth=20, max_features=auto, min_samples_leaf=2, min_samples_split=3, n_estimators=300; total time=   0.0s\n",
      "[CV] END max_depth=20, max_features=auto, min_samples_leaf=2, min_samples_split=3, n_estimators=300; total time=   0.0s\n",
      "[CV] END max_depth=20, max_features=auto, min_samples_leaf=2, min_samples_split=3, n_estimators=350; total time=   0.0s\n",
      "[CV] END max_depth=20, max_features=auto, min_samples_leaf=2, min_samples_split=3, n_estimators=350; total time=   0.0s\n",
      "[CV] END max_depth=20, max_features=log2, min_samples_leaf=1, min_samples_split=3, n_estimators=300; total time=   0.2s\n",
      "[CV] END max_depth=20, max_features=log2, min_samples_leaf=1, min_samples_split=3, n_estimators=300; total time=   0.2s\n",
      "[CV] END max_depth=20, max_features=log2, min_samples_leaf=2, min_samples_split=2, n_estimators=300; total time=   0.2s\n",
      "[CV] END max_depth=20, max_features=log2, min_samples_leaf=2, min_samples_split=2, n_estimators=300; total time=   0.2s\n",
      "[CV] END max_depth=23, max_features=auto, min_samples_leaf=1, min_samples_split=2, n_estimators=350; total time=   0.0s\n",
      "[CV] END max_depth=23, max_features=auto, min_samples_leaf=1, min_samples_split=2, n_estimators=350; total time=   0.0s\n",
      "[CV] END max_depth=23, max_features=auto, min_samples_leaf=1, min_samples_split=3, n_estimators=300; total time=   0.0s\n",
      "[CV] END max_depth=23, max_features=auto, min_samples_leaf=1, min_samples_split=3, n_estimators=300; total time=   0.0s\n",
      "[CV] END max_depth=23, max_features=auto, min_samples_leaf=1, min_samples_split=3, n_estimators=350; total time=   0.0s\n",
      "[CV] END max_depth=23, max_features=auto, min_samples_leaf=1, min_samples_split=3, n_estimators=350; total time=   0.0s\n",
      "[CV] END max_depth=23, max_features=auto, min_samples_leaf=2, min_samples_split=2, n_estimators=300; total time=   0.0s\n",
      "[CV] END max_depth=23, max_features=auto, min_samples_leaf=2, min_samples_split=2, n_estimators=300; total time=   0.0s\n",
      "[CV] END max_depth=23, max_features=auto, min_samples_leaf=2, min_samples_split=2, n_estimators=350; total time=   0.0s\n",
      "[CV] END max_depth=23, max_features=auto, min_samples_leaf=2, min_samples_split=2, n_estimators=350; total time=   0.0s\n",
      "[CV] END max_depth=23, max_features=auto, min_samples_leaf=2, min_samples_split=3, n_estimators=300; total time=   0.0s\n",
      "[CV] END max_depth=23, max_features=auto, min_samples_leaf=2, min_samples_split=3, n_estimators=300; total time=   0.0s\n",
      "[CV] END max_depth=23, max_features=auto, min_samples_leaf=2, min_samples_split=3, n_estimators=350; total time=   0.0s\n",
      "[CV] END max_depth=23, max_features=auto, min_samples_leaf=2, min_samples_split=3, n_estimators=350; total time=   0.0s\n",
      "[CV] END max_depth=23, max_features=log2, min_samples_leaf=1, min_samples_split=2, n_estimators=300; total time=   0.2s\n",
      "[CV] END max_depth=23, max_features=log2, min_samples_leaf=1, min_samples_split=2, n_estimators=300; total time=   0.2s\n",
      "[CV] END max_depth=23, max_features=log2, min_samples_leaf=2, min_samples_split=2, n_estimators=300; total time=   0.2s\n",
      "[CV] END max_depth=23, max_features=log2, min_samples_leaf=2, min_samples_split=2, n_estimators=300; total time=   0.2s\n",
      "[CV] END max_depth=17, max_features=auto, min_samples_leaf=1, min_samples_split=2, n_estimators=350; total time=   0.0s\n",
      "[CV] END max_depth=17, max_features=auto, min_samples_leaf=1, min_samples_split=3, n_estimators=300; total time=   0.0s\n",
      "[CV] END max_depth=17, max_features=auto, min_samples_leaf=1, min_samples_split=3, n_estimators=350; total time=   0.0s\n",
      "[CV] END max_depth=17, max_features=log2, min_samples_leaf=1, min_samples_split=2, n_estimators=300; total time=   0.2s\n",
      "[CV] END max_depth=17, max_features=log2, min_samples_leaf=1, min_samples_split=3, n_estimators=300; total time=   0.2s\n",
      "[CV] END max_depth=17, max_features=log2, min_samples_leaf=2, min_samples_split=2, n_estimators=350; total time=   0.3s\n",
      "[CV] END max_depth=17, max_features=log2, min_samples_leaf=2, min_samples_split=2, n_estimators=350; total time=   0.3s\n",
      "[CV] END max_depth=20, max_features=log2, min_samples_leaf=1, min_samples_split=2, n_estimators=300; total time=   0.2s\n",
      "[CV] END max_depth=20, max_features=log2, min_samples_leaf=1, min_samples_split=2, n_estimators=300; total time=   0.2s\n",
      "[CV] END max_depth=20, max_features=log2, min_samples_leaf=2, min_samples_split=2, n_estimators=300; total time=   0.2s\n",
      "[CV] END max_depth=20, max_features=log2, min_samples_leaf=2, min_samples_split=2, n_estimators=300; total time=   0.2s\n",
      "[CV] END max_depth=23, max_features=auto, min_samples_leaf=1, min_samples_split=2, n_estimators=300; total time=   0.0s\n",
      "[CV] END max_depth=23, max_features=auto, min_samples_leaf=1, min_samples_split=2, n_estimators=300; total time=   0.0s\n",
      "[CV] END max_depth=23, max_features=auto, min_samples_leaf=1, min_samples_split=2, n_estimators=300; total time=   0.0s\n",
      "[CV] END max_depth=23, max_features=auto, min_samples_leaf=1, min_samples_split=2, n_estimators=300; total time=   0.0s\n",
      "[CV] END max_depth=23, max_features=auto, min_samples_leaf=1, min_samples_split=2, n_estimators=350; total time=   0.0s\n",
      "[CV] END max_depth=23, max_features=auto, min_samples_leaf=1, min_samples_split=2, n_estimators=350; total time=   0.0s\n",
      "[CV] END max_depth=23, max_features=auto, min_samples_leaf=1, min_samples_split=3, n_estimators=300; total time=   0.0s\n",
      "[CV] END max_depth=23, max_features=auto, min_samples_leaf=1, min_samples_split=3, n_estimators=300; total time=   0.0s\n",
      "[CV] END max_depth=23, max_features=auto, min_samples_leaf=2, min_samples_split=2, n_estimators=350; total time=   0.0s\n",
      "[CV] END max_depth=23, max_features=auto, min_samples_leaf=2, min_samples_split=2, n_estimators=350; total time=   0.0s\n",
      "[CV] END max_depth=23, max_features=log2, min_samples_leaf=1, min_samples_split=2, n_estimators=300; total time=   0.2s\n",
      "[CV] END max_depth=23, max_features=log2, min_samples_leaf=1, min_samples_split=2, n_estimators=300; total time=   0.2s\n",
      "[CV] END max_depth=23, max_features=log2, min_samples_leaf=2, min_samples_split=2, n_estimators=300; total time=   0.2s\n",
      "[CV] END max_depth=23, max_features=log2, min_samples_leaf=2, min_samples_split=2, n_estimators=300; total time=   0.2s\n",
      "[CV] END max_depth=17, max_features=auto, min_samples_leaf=1, min_samples_split=2, n_estimators=350; total time=   0.0s\n",
      "[CV] END max_depth=17, max_features=auto, min_samples_leaf=1, min_samples_split=3, n_estimators=350; total time=   0.0s\n",
      "[CV] END max_depth=17, max_features=auto, min_samples_leaf=2, min_samples_split=2, n_estimators=300; total time=   0.0s\n",
      "[CV] END max_depth=17, max_features=auto, min_samples_leaf=2, min_samples_split=2, n_estimators=300; total time=   0.0s\n",
      "[CV] END max_depth=17, max_features=auto, min_samples_leaf=2, min_samples_split=2, n_estimators=350; total time=   0.0s\n",
      "[CV] END max_depth=17, max_features=log2, min_samples_leaf=1, min_samples_split=2, n_estimators=350; total time=   0.2s\n",
      "[CV] END max_depth=17, max_features=log2, min_samples_leaf=1, min_samples_split=3, n_estimators=350; total time=   0.3s\n",
      "[CV] END max_depth=17, max_features=log2, min_samples_leaf=2, min_samples_split=3, n_estimators=350; total time=   0.2s\n",
      "[CV] END max_depth=17, max_features=log2, min_samples_leaf=2, min_samples_split=3, n_estimators=350; total time=   0.2s\n",
      "[CV] END max_depth=20, max_features=log2, min_samples_leaf=1, min_samples_split=2, n_estimators=300; total time=   0.3s\n",
      "[CV] END max_depth=20, max_features=log2, min_samples_leaf=1, min_samples_split=2, n_estimators=300; total time=   0.2s\n",
      "[CV] END max_depth=20, max_features=log2, min_samples_leaf=2, min_samples_split=3, n_estimators=300; total time=   0.2s\n",
      "[CV] END max_depth=20, max_features=log2, min_samples_leaf=2, min_samples_split=3, n_estimators=300; total time=   0.2s\n",
      "[CV] END max_depth=23, max_features=auto, min_samples_leaf=1, min_samples_split=3, n_estimators=350; total time=   0.0s\n",
      "[CV] END max_depth=23, max_features=auto, min_samples_leaf=1, min_samples_split=3, n_estimators=350; total time=   0.0s\n",
      "[CV] END max_depth=23, max_features=auto, min_samples_leaf=2, min_samples_split=2, n_estimators=300; total time=   0.0s\n",
      "[CV] END max_depth=23, max_features=auto, min_samples_leaf=2, min_samples_split=2, n_estimators=300; total time=   0.0s\n",
      "[CV] END max_depth=23, max_features=auto, min_samples_leaf=2, min_samples_split=3, n_estimators=300; total time=   0.0s\n",
      "[CV] END max_depth=23, max_features=auto, min_samples_leaf=2, min_samples_split=3, n_estimators=300; total time=   0.0s\n",
      "[CV] END max_depth=23, max_features=auto, min_samples_leaf=2, min_samples_split=3, n_estimators=350; total time=   0.0s\n",
      "[CV] END max_depth=23, max_features=auto, min_samples_leaf=2, min_samples_split=3, n_estimators=350; total time=   0.0s\n",
      "[CV] END max_depth=23, max_features=log2, min_samples_leaf=1, min_samples_split=2, n_estimators=350; total time=   0.3s\n",
      "[CV] END max_depth=23, max_features=log2, min_samples_leaf=1, min_samples_split=2, n_estimators=350; total time=   0.3s\n",
      "[CV] END max_depth=23, max_features=log2, min_samples_leaf=2, min_samples_split=3, n_estimators=300; total time=   0.2s\n",
      "[CV] END max_depth=23, max_features=log2, min_samples_leaf=2, min_samples_split=3, n_estimators=300; total time=   0.2s\n",
      "[CV] END max_depth=17, max_features=auto, min_samples_leaf=1, min_samples_split=2, n_estimators=350; total time=   0.0s\n",
      "[CV] END max_depth=17, max_features=auto, min_samples_leaf=2, min_samples_split=2, n_estimators=350; total time=   0.0s\n",
      "[CV] END max_depth=17, max_features=auto, min_samples_leaf=2, min_samples_split=2, n_estimators=350; total time=   0.0s\n",
      "[CV] END max_depth=17, max_features=auto, min_samples_leaf=2, min_samples_split=3, n_estimators=300; total time=   0.0s\n",
      "[CV] END max_depth=17, max_features=log2, min_samples_leaf=1, min_samples_split=2, n_estimators=300; total time=   0.2s\n",
      "[CV] END max_depth=17, max_features=log2, min_samples_leaf=1, min_samples_split=3, n_estimators=300; total time=   0.2s\n",
      "[CV] END max_depth=17, max_features=log2, min_samples_leaf=2, min_samples_split=2, n_estimators=300; total time=   0.2s\n",
      "[CV] END max_depth=17, max_features=log2, min_samples_leaf=2, min_samples_split=2, n_estimators=300; total time=   0.2s\n",
      "[CV] END max_depth=20, max_features=auto, min_samples_leaf=1, min_samples_split=3, n_estimators=300; total time=   0.0s\n",
      "[CV] END max_depth=20, max_features=auto, min_samples_leaf=1, min_samples_split=3, n_estimators=300; total time=   0.0s\n",
      "[CV] END max_depth=20, max_features=auto, min_samples_leaf=1, min_samples_split=3, n_estimators=300; total time=   0.0s\n",
      "[CV] END max_depth=20, max_features=auto, min_samples_leaf=1, min_samples_split=3, n_estimators=300; total time=   0.0s\n",
      "[CV] END max_depth=20, max_features=auto, min_samples_leaf=1, min_samples_split=3, n_estimators=350; total time=   0.0s\n",
      "[CV] END max_depth=20, max_features=auto, min_samples_leaf=1, min_samples_split=3, n_estimators=350; total time=   0.0s\n",
      "[CV] END max_depth=20, max_features=log2, min_samples_leaf=1, min_samples_split=3, n_estimators=300; total time=   0.2s\n",
      "[CV] END max_depth=20, max_features=log2, min_samples_leaf=1, min_samples_split=3, n_estimators=300; total time=   0.2s\n",
      "[CV] END max_depth=20, max_features=log2, min_samples_leaf=2, min_samples_split=2, n_estimators=350; total time=   0.3s\n",
      "[CV] END max_depth=20, max_features=log2, min_samples_leaf=2, min_samples_split=2, n_estimators=350; total time=   0.3s\n",
      "[CV] END max_depth=23, max_features=log2, min_samples_leaf=1, min_samples_split=3, n_estimators=350; total time=   0.3s\n",
      "[CV] END max_depth=23, max_features=log2, min_samples_leaf=1, min_samples_split=3, n_estimators=350; total time=   0.3s\n",
      "[CV] END max_depth=23, max_features=log2, min_samples_leaf=2, min_samples_split=3, n_estimators=300; total time=   0.2s\n",
      "[CV] END max_depth=23, max_features=log2, min_samples_leaf=2, min_samples_split=3, n_estimators=300; total time=   0.2s\n",
      "[CV] END max_depth=17, max_features=auto, min_samples_leaf=1, min_samples_split=2, n_estimators=300; total time=   0.0s\n",
      "[CV] END max_depth=17, max_features=auto, min_samples_leaf=1, min_samples_split=3, n_estimators=300; total time=   0.0s\n",
      "[CV] END max_depth=17, max_features=auto, min_samples_leaf=1, min_samples_split=3, n_estimators=350; total time=   0.0s\n",
      "[CV] END max_depth=17, max_features=auto, min_samples_leaf=2, min_samples_split=2, n_estimators=300; total time=   0.0s\n",
      "[CV] END max_depth=17, max_features=auto, min_samples_leaf=2, min_samples_split=2, n_estimators=300; total time=   0.0s\n",
      "[CV] END max_depth=17, max_features=log2, min_samples_leaf=1, min_samples_split=2, n_estimators=350; total time=   0.3s\n",
      "[CV] END max_depth=17, max_features=log2, min_samples_leaf=1, min_samples_split=3, n_estimators=350; total time=   0.3s\n",
      "[CV] END max_depth=17, max_features=log2, min_samples_leaf=2, min_samples_split=3, n_estimators=350; total time=   0.2s\n",
      "[CV] END max_depth=17, max_features=log2, min_samples_leaf=2, min_samples_split=3, n_estimators=350; total time=   0.3s\n",
      "[CV] END max_depth=20, max_features=log2, min_samples_leaf=1, min_samples_split=3, n_estimators=350; total time=   0.3s\n",
      "[CV] END max_depth=20, max_features=log2, min_samples_leaf=1, min_samples_split=3, n_estimators=350; total time=   0.2s\n",
      "[CV] END max_depth=20, max_features=log2, min_samples_leaf=2, min_samples_split=3, n_estimators=350; total time=   0.3s\n",
      "[CV] END max_depth=20, max_features=log2, min_samples_leaf=2, min_samples_split=3, n_estimators=350; total time=   0.2s\n",
      "[CV] END max_depth=23, max_features=log2, min_samples_leaf=1, min_samples_split=3, n_estimators=300; total time=   0.2s\n",
      "[CV] END max_depth=23, max_features=log2, min_samples_leaf=1, min_samples_split=3, n_estimators=300; total time=   0.2s\n",
      "[CV] END max_depth=23, max_features=log2, min_samples_leaf=2, min_samples_split=2, n_estimators=350; total time=   0.3s\n",
      "[CV] END max_depth=23, max_features=log2, min_samples_leaf=2, min_samples_split=2, n_estimators=350; total time=   0.2s\n"
     ]
    },
    {
     "name": "stdout",
     "output_type": "stream",
     "text": [
      "[CV] END max_depth=17, max_features=auto, min_samples_leaf=1, min_samples_split=2, n_estimators=300; total time=   0.0s\n",
      "[CV] END max_depth=17, max_features=auto, min_samples_leaf=1, min_samples_split=3, n_estimators=300; total time=   0.0s\n",
      "[CV] END max_depth=17, max_features=auto, min_samples_leaf=2, min_samples_split=2, n_estimators=350; total time=   0.0s\n",
      "[CV] END max_depth=17, max_features=auto, min_samples_leaf=2, min_samples_split=3, n_estimators=300; total time=   0.0s\n",
      "[CV] END max_depth=17, max_features=auto, min_samples_leaf=2, min_samples_split=3, n_estimators=300; total time=   0.0s\n",
      "[CV] END max_depth=17, max_features=auto, min_samples_leaf=2, min_samples_split=3, n_estimators=350; total time=   0.0s\n",
      "[CV] END max_depth=17, max_features=log2, min_samples_leaf=1, min_samples_split=2, n_estimators=300; total time=   0.2s\n",
      "[CV] END max_depth=17, max_features=log2, min_samples_leaf=1, min_samples_split=3, n_estimators=300; total time=   0.2s\n",
      "[CV] END max_depth=17, max_features=log2, min_samples_leaf=2, min_samples_split=2, n_estimators=350; total time=   0.2s\n",
      "[CV] END max_depth=17, max_features=log2, min_samples_leaf=2, min_samples_split=2, n_estimators=350; total time=   0.2s\n",
      "[CV] END max_depth=20, max_features=auto, min_samples_leaf=2, min_samples_split=3, n_estimators=350; total time=   0.0s\n",
      "[CV] END max_depth=20, max_features=auto, min_samples_leaf=2, min_samples_split=3, n_estimators=350; total time=   0.0s\n",
      "[CV] END max_depth=20, max_features=log2, min_samples_leaf=1, min_samples_split=2, n_estimators=350; total time=   0.3s\n",
      "[CV] END max_depth=20, max_features=log2, min_samples_leaf=1, min_samples_split=2, n_estimators=350; total time=   0.3s\n",
      "[CV] END max_depth=20, max_features=log2, min_samples_leaf=2, min_samples_split=3, n_estimators=300; total time=   0.2s\n",
      "[CV] END max_depth=20, max_features=log2, min_samples_leaf=2, min_samples_split=3, n_estimators=300; total time=   0.2s\n",
      "[CV] END max_depth=23, max_features=log2, min_samples_leaf=1, min_samples_split=3, n_estimators=300; total time=   0.3s\n",
      "[CV] END max_depth=23, max_features=log2, min_samples_leaf=1, min_samples_split=3, n_estimators=300; total time=   0.3s\n",
      "[CV] END max_depth=23, max_features=log2, min_samples_leaf=2, min_samples_split=2, n_estimators=350; total time=   0.3s\n",
      "[CV] END max_depth=23, max_features=log2, min_samples_leaf=2, min_samples_split=2, n_estimators=350; total time=   0.2s\n",
      "[CV] END max_depth=17, max_features=auto, min_samples_leaf=1, min_samples_split=2, n_estimators=300; total time=   0.0s\n",
      "[CV] END max_depth=17, max_features=auto, min_samples_leaf=1, min_samples_split=3, n_estimators=350; total time=   0.0s\n",
      "[CV] END max_depth=17, max_features=auto, min_samples_leaf=2, min_samples_split=3, n_estimators=350; total time=   0.0s\n",
      "[CV] END max_depth=17, max_features=log2, min_samples_leaf=1, min_samples_split=2, n_estimators=300; total time=   0.2s\n",
      "[CV] END max_depth=17, max_features=log2, min_samples_leaf=1, min_samples_split=3, n_estimators=300; total time=   0.2s\n",
      "[CV] END max_depth=17, max_features=log2, min_samples_leaf=2, min_samples_split=2, n_estimators=300; total time=   0.2s\n",
      "[CV] END max_depth=17, max_features=log2, min_samples_leaf=2, min_samples_split=2, n_estimators=300; total time=   0.2s\n",
      "[CV] END max_depth=20, max_features=auto, min_samples_leaf=1, min_samples_split=2, n_estimators=300; total time=   0.0s\n",
      "[CV] END max_depth=20, max_features=auto, min_samples_leaf=1, min_samples_split=2, n_estimators=300; total time=   0.0s\n",
      "[CV] END max_depth=20, max_features=auto, min_samples_leaf=1, min_samples_split=2, n_estimators=300; total time=   0.0s\n",
      "[CV] END max_depth=20, max_features=auto, min_samples_leaf=1, min_samples_split=2, n_estimators=300; total time=   0.0s\n",
      "[CV] END max_depth=20, max_features=auto, min_samples_leaf=1, min_samples_split=2, n_estimators=350; total time=   0.0s\n",
      "[CV] END max_depth=20, max_features=auto, min_samples_leaf=1, min_samples_split=2, n_estimators=350; total time=   0.0s\n",
      "[CV] END max_depth=20, max_features=auto, min_samples_leaf=1, min_samples_split=2, n_estimators=350; total time=   0.0s\n",
      "[CV] END max_depth=20, max_features=auto, min_samples_leaf=1, min_samples_split=2, n_estimators=350; total time=   0.0s\n",
      "[CV] END max_depth=20, max_features=auto, min_samples_leaf=1, min_samples_split=3, n_estimators=350; total time=   0.0s\n",
      "[CV] END max_depth=20, max_features=auto, min_samples_leaf=1, min_samples_split=3, n_estimators=350; total time=   0.0s\n",
      "[CV] END max_depth=20, max_features=auto, min_samples_leaf=2, min_samples_split=2, n_estimators=300; total time=   0.0s\n",
      "[CV] END max_depth=20, max_features=auto, min_samples_leaf=2, min_samples_split=2, n_estimators=300; total time=   0.0s\n",
      "[CV] END max_depth=20, max_features=log2, min_samples_leaf=1, min_samples_split=2, n_estimators=350; total time=   0.2s\n",
      "[CV] END max_depth=20, max_features=log2, min_samples_leaf=1, min_samples_split=2, n_estimators=350; total time=   0.3s\n",
      "[CV] END max_depth=20, max_features=log2, min_samples_leaf=2, min_samples_split=2, n_estimators=350; total time=   0.3s\n",
      "[CV] END max_depth=20, max_features=log2, min_samples_leaf=2, min_samples_split=2, n_estimators=350; total time=   0.2s\n",
      "[CV] END max_depth=23, max_features=log2, min_samples_leaf=1, min_samples_split=2, n_estimators=350; total time=   0.3s\n",
      "[CV] END max_depth=23, max_features=log2, min_samples_leaf=1, min_samples_split=2, n_estimators=350; total time=   0.3s\n",
      "[CV] END max_depth=23, max_features=log2, min_samples_leaf=2, min_samples_split=3, n_estimators=350; total time=   0.2s\n",
      "[CV] END max_depth=23, max_features=log2, min_samples_leaf=2, min_samples_split=3, n_estimators=350; total time=   0.2s\n",
      "[CV] END max_depth=17, max_features=auto, min_samples_leaf=1, min_samples_split=2, n_estimators=300; total time=   0.0s\n",
      "[CV] END max_depth=17, max_features=auto, min_samples_leaf=2, min_samples_split=3, n_estimators=300; total time=   0.0s\n",
      "[CV] END max_depth=17, max_features=auto, min_samples_leaf=2, min_samples_split=3, n_estimators=350; total time=   0.0s\n",
      "[CV] END max_depth=17, max_features=auto, min_samples_leaf=2, min_samples_split=3, n_estimators=350; total time=   0.0s\n",
      "[CV] END max_depth=17, max_features=log2, min_samples_leaf=1, min_samples_split=2, n_estimators=350; total time=   0.3s\n",
      "[CV] END max_depth=17, max_features=log2, min_samples_leaf=1, min_samples_split=3, n_estimators=350; total time=   0.3s\n",
      "[CV] END max_depth=17, max_features=log2, min_samples_leaf=2, min_samples_split=3, n_estimators=300; total time=   0.2s\n",
      "[CV] END max_depth=17, max_features=log2, min_samples_leaf=2, min_samples_split=3, n_estimators=300; total time=   0.2s\n",
      "[CV] END max_depth=20, max_features=auto, min_samples_leaf=2, min_samples_split=2, n_estimators=350; total time=   0.0s\n",
      "[CV] END max_depth=20, max_features=auto, min_samples_leaf=2, min_samples_split=2, n_estimators=350; total time=   0.0s\n",
      "[CV] END max_depth=20, max_features=auto, min_samples_leaf=2, min_samples_split=3, n_estimators=300; total time=   0.0s\n",
      "[CV] END max_depth=20, max_features=auto, min_samples_leaf=2, min_samples_split=3, n_estimators=300; total time=   0.0s\n",
      "[CV] END max_depth=20, max_features=log2, min_samples_leaf=1, min_samples_split=3, n_estimators=350; total time=   0.3s\n",
      "[CV] END max_depth=20, max_features=log2, min_samples_leaf=1, min_samples_split=3, n_estimators=350; total time=   0.3s\n",
      "[CV] END max_depth=20, max_features=log2, min_samples_leaf=2, min_samples_split=3, n_estimators=350; total time=   0.3s\n",
      "[CV] END max_depth=20, max_features=log2, min_samples_leaf=2, min_samples_split=3, n_estimators=350; total time=   0.2s\n",
      "[CV] END max_depth=23, max_features=log2, min_samples_leaf=1, min_samples_split=3, n_estimators=350; total time=   0.3s\n",
      "[CV] END max_depth=23, max_features=log2, min_samples_leaf=1, min_samples_split=3, n_estimators=350; total time=   0.3s\n",
      "[CV] END max_depth=23, max_features=log2, min_samples_leaf=2, min_samples_split=3, n_estimators=350; total time=   0.3s\n",
      "[CV] END max_depth=23, max_features=log2, min_samples_leaf=2, min_samples_split=3, n_estimators=350; total time=   0.2s\n"
     ]
    }
   ],
   "source": [
    "from sklearn.metrics import confusion_matrix, ConfusionMatrixDisplay\n",
    "\n",
    "cm = confusion_matrix(y_test, y_pred)\n",
    "disp = ConfusionMatrixDisplay(confusion_matrix=cm)\n",
    "disp.plot()"
   ]
  },
  {
   "cell_type": "code",
   "execution_count": 10,
   "id": "69b25594",
   "metadata": {},
   "outputs": [
    {
     "name": "stdout",
     "output_type": "stream",
     "text": [
      "              precision    recall  f1-score   support\n",
      "\n",
      "           0       0.97      1.00      0.99       102\n",
      "           1       1.00      0.97      0.99       103\n",
      "\n",
      "    accuracy                           0.99       205\n",
      "   macro avg       0.99      0.99      0.99       205\n",
      "weighted avg       0.99      0.99      0.99       205\n",
      "\n"
     ]
    },
    {
     "ename": "NameError",
     "evalue": "name 'report' is not defined",
     "output_type": "error",
     "traceback": [
      "\u001b[0;31m---------------------------------------------------------------------------\u001b[0m",
      "\u001b[0;31mNameError\u001b[0m                                 Traceback (most recent call last)",
      "Cell \u001b[0;32mIn[10], line 7\u001b[0m\n\u001b[1;32m      4\u001b[0m report_path \u001b[38;5;241m=\u001b[39m \u001b[38;5;124m\"\u001b[39m\u001b[38;5;124m/Users/nimratsandhu/Documents/projects/fitsense/reports/classification_report.txt\u001b[39m\u001b[38;5;124m\"\u001b[39m\n\u001b[1;32m      6\u001b[0m \u001b[38;5;28;01mwith\u001b[39;00m \u001b[38;5;28mopen\u001b[39m(report_path, \u001b[38;5;124m\"\u001b[39m\u001b[38;5;124mw\u001b[39m\u001b[38;5;124m\"\u001b[39m) \u001b[38;5;28;01mas\u001b[39;00m file:\n\u001b[0;32m----> 7\u001b[0m     file\u001b[38;5;241m.\u001b[39mwrite(report)\n",
      "\u001b[0;31mNameError\u001b[0m: name 'report' is not defined"
     ]
    }
   ],
   "source": [
    "from sklearn.metrics import classification_report\n",
    "report = classification_report(y_test, y_pred)\n",
    "\n",
    "report_path = \"/Users/nimratsandhu/Documents/projects/fitsense/reports/classification_report.txt\"\n",
    "\n",
    "with open(report_path, \"w\") as file:\n",
    "    file.write(report)\n",
    "\n",
    "print(report)"
   ]
  },
  {
   "cell_type": "code",
   "execution_count": 9,
   "id": "a3cc7ee9",
   "metadata": {},
   "outputs": [
    {
     "data": {
      "text/plain": [
       "['/Users/nimratsandhu/Documents/projects/fitsense/models/random_forest_model.pkl']"
      ]
     },
     "execution_count": 9,
     "metadata": {},
     "output_type": "execute_result"
    }
   ],
   "source": [
    "import joblib\n",
    "modelPath = \"/Users/nimratsandhu/Documents/projects/fitsense/models/random_forest_model.pkl\"\n",
    "joblib.dump(model, modelPath)"
   ]
  },
  {
   "cell_type": "code",
   "execution_count": null,
   "id": "014e41f1",
   "metadata": {},
   "outputs": [],
   "source": []
  }
 ],
 "metadata": {
  "kernelspec": {
   "display_name": "Python 3 (ipykernel)",
   "language": "python",
   "name": "python3"
  },
  "language_info": {
   "codemirror_mode": {
    "name": "ipython",
    "version": 3
   },
   "file_extension": ".py",
   "mimetype": "text/x-python",
   "name": "python",
   "nbconvert_exporter": "python",
   "pygments_lexer": "ipython3",
   "version": "3.11.5"
  }
 },
 "nbformat": 4,
 "nbformat_minor": 5
}
